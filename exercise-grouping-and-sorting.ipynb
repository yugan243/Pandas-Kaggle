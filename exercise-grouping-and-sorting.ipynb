{
 "cells": [
  {
   "cell_type": "markdown",
   "id": "866d3e4c",
   "metadata": {
    "papermill": {
     "duration": 0.006553,
     "end_time": "2025-02-08T05:02:50.409919",
     "exception": false,
     "start_time": "2025-02-08T05:02:50.403366",
     "status": "completed"
    },
    "tags": []
   },
   "source": [
    "**This notebook is an exercise in the [Pandas](https://www.kaggle.com/learn/pandas) course.  You can reference the tutorial at [this link](https://www.kaggle.com/residentmario/grouping-and-sorting).**\n",
    "\n",
    "---\n"
   ]
  },
  {
   "cell_type": "markdown",
   "id": "a7e94564",
   "metadata": {
    "papermill": {
     "duration": 0.004826,
     "end_time": "2025-02-08T05:02:50.420092",
     "exception": false,
     "start_time": "2025-02-08T05:02:50.415266",
     "status": "completed"
    },
    "tags": []
   },
   "source": [
    "# Introduction\n",
    "\n",
    "In these exercises we'll apply groupwise analysis to our dataset.\n",
    "\n",
    "Run the code cell below to load the data before running the exercises."
   ]
  },
  {
   "cell_type": "code",
   "execution_count": 1,
   "id": "e44ca913",
   "metadata": {
    "execution": {
     "iopub.execute_input": "2025-02-08T05:02:50.431829Z",
     "iopub.status.busy": "2025-02-08T05:02:50.431353Z",
     "iopub.status.idle": "2025-02-08T05:02:55.238980Z",
     "shell.execute_reply": "2025-02-08T05:02:55.237653Z"
    },
    "papermill": {
     "duration": 4.816003,
     "end_time": "2025-02-08T05:02:55.241091",
     "exception": false,
     "start_time": "2025-02-08T05:02:50.425088",
     "status": "completed"
    },
    "tags": []
   },
   "outputs": [
    {
     "name": "stdout",
     "output_type": "stream",
     "text": [
      "Setup complete.\n"
     ]
    },
    {
     "name": "stderr",
     "output_type": "stream",
     "text": [
      "/usr/local/lib/python3.10/dist-packages/learntools/pandas/grouping_and_sorting.py:29: FutureWarning: The provided callable <built-in function min> is currently using SeriesGroupBy.min. In a future version of pandas, the provided callable will be used directly. To keep current behavior pass the string \"min\" instead.\n",
      "  _expected = reviews.groupby('variety').price.agg([min, max])\n",
      "/usr/local/lib/python3.10/dist-packages/learntools/pandas/grouping_and_sorting.py:29: FutureWarning: The provided callable <built-in function max> is currently using SeriesGroupBy.max. In a future version of pandas, the provided callable will be used directly. To keep current behavior pass the string \"max\" instead.\n",
      "  _expected = reviews.groupby('variety').price.agg([min, max])\n",
      "/usr/local/lib/python3.10/dist-packages/learntools/pandas/grouping_and_sorting.py:35: FutureWarning: The provided callable <built-in function min> is currently using SeriesGroupBy.min. In a future version of pandas, the provided callable will be used directly. To keep current behavior pass the string \"min\" instead.\n",
      "  _expected = reviews.groupby('variety').price.agg([min, max]).sort_values(by=['min', 'max'], ascending=False)\n",
      "/usr/local/lib/python3.10/dist-packages/learntools/pandas/grouping_and_sorting.py:35: FutureWarning: The provided callable <built-in function max> is currently using SeriesGroupBy.max. In a future version of pandas, the provided callable will be used directly. To keep current behavior pass the string \"max\" instead.\n",
      "  _expected = reviews.groupby('variety').price.agg([min, max]).sort_values(by=['min', 'max'], ascending=False)\n"
     ]
    }
   ],
   "source": [
    "import pandas as pd\n",
    "\n",
    "reviews = pd.read_csv(\"../input/wine-reviews/winemag-data-130k-v2.csv\", index_col=0)\n",
    "#pd.set_option(\"display.max_rows\", 5)\n",
    "\n",
    "from learntools.core import binder; binder.bind(globals())\n",
    "from learntools.pandas.grouping_and_sorting import *\n",
    "print(\"Setup complete.\")"
   ]
  },
  {
   "cell_type": "markdown",
   "id": "5d9f4e8c",
   "metadata": {
    "papermill": {
     "duration": 0.00524,
     "end_time": "2025-02-08T05:02:55.252032",
     "exception": false,
     "start_time": "2025-02-08T05:02:55.246792",
     "status": "completed"
    },
    "tags": []
   },
   "source": [
    "# Exercises"
   ]
  },
  {
   "cell_type": "markdown",
   "id": "dad12f7f",
   "metadata": {
    "papermill": {
     "duration": 0.004865,
     "end_time": "2025-02-08T05:02:55.261991",
     "exception": false,
     "start_time": "2025-02-08T05:02:55.257126",
     "status": "completed"
    },
    "tags": []
   },
   "source": [
    "## 1.\n",
    "Who are the most common wine reviewers in the dataset? Create a `Series` whose index is the `taster_twitter_handle` category from the dataset, and whose values count how many reviews each person wrote."
   ]
  },
  {
   "cell_type": "code",
   "execution_count": 2,
   "id": "08d093d6",
   "metadata": {
    "execution": {
     "iopub.execute_input": "2025-02-08T05:02:55.274169Z",
     "iopub.status.busy": "2025-02-08T05:02:55.273689Z",
     "iopub.status.idle": "2025-02-08T05:02:55.306557Z",
     "shell.execute_reply": "2025-02-08T05:02:55.305147Z"
    },
    "papermill": {
     "duration": 0.041311,
     "end_time": "2025-02-08T05:02:55.308670",
     "exception": false,
     "start_time": "2025-02-08T05:02:55.267359",
     "status": "completed"
    },
    "tags": []
   },
   "outputs": [
    {
     "name": "stdout",
     "output_type": "stream",
     "text": [
      "taster_twitter_handle\n",
      "@AnneInVino          3685\n",
      "@JoeCz               5147\n",
      "@bkfiona               27\n",
      "@gordone_cellars     4177\n",
      "@kerinokeefe        10776\n",
      "@laurbuzz            1835\n",
      "@mattkettmann        6332\n",
      "@paulgwine           9532\n",
      "@suskostrzewa        1085\n",
      "@vboone              9537\n",
      "@vossroger          25514\n",
      "@wawinereport        4966\n",
      "@wineschach         15134\n",
      "@winewchristina         6\n",
      "@worldwineguys       1005\n",
      "Name: taster_twitter_handle, dtype: int64\n"
     ]
    },
    {
     "data": {
      "application/javascript": [
       "parent.postMessage({\"jupyterEvent\": \"custom.exercise_interaction\", \"data\": {\"outcomeType\": 1, \"valueTowardsCompletion\": 0.16666666666666666, \"interactionType\": 1, \"questionType\": 1, \"questionId\": \"1_ReviewsWritten\", \"learnToolsVersion\": \"0.3.4\", \"failureMessage\": \"\", \"exceptionClass\": \"\", \"trace\": \"\"}}, \"*\")"
      ],
      "text/plain": [
       "<IPython.core.display.Javascript object>"
      ]
     },
     "metadata": {},
     "output_type": "display_data"
    },
    {
     "data": {
      "text/markdown": [
       "<span style=\"color:#33cc33\">Correct:</span> \n",
       "\n",
       "\n",
       "```python\n",
       "reviews_written = reviews.groupby('taster_twitter_handle').size()\n",
       "```\n",
       "or\n",
       "```python\n",
       "reviews_written = reviews.groupby('taster_twitter_handle').taster_twitter_handle.count()\n",
       "```\n"
      ],
      "text/plain": [
       "Correct: \n",
       "\n",
       "\n",
       "```python\n",
       "reviews_written = reviews.groupby('taster_twitter_handle').size()\n",
       "```\n",
       "or\n",
       "```python\n",
       "reviews_written = reviews.groupby('taster_twitter_handle').taster_twitter_handle.count()\n",
       "```"
      ]
     },
     "metadata": {},
     "output_type": "display_data"
    }
   ],
   "source": [
    "# Your code here\n",
    "reviews_written = reviews.groupby('taster_twitter_handle').taster_twitter_handle.count()\n",
    "print(reviews_written)\n",
    "type(reviews_written)\n",
    "\n",
    "# Check your answer\n",
    "q1.check()"
   ]
  },
  {
   "cell_type": "code",
   "execution_count": 3,
   "id": "a2557586",
   "metadata": {
    "execution": {
     "iopub.execute_input": "2025-02-08T05:02:55.323857Z",
     "iopub.status.busy": "2025-02-08T05:02:55.323379Z",
     "iopub.status.idle": "2025-02-08T05:02:55.336078Z",
     "shell.execute_reply": "2025-02-08T05:02:55.334470Z"
    },
    "papermill": {
     "duration": 0.023116,
     "end_time": "2025-02-08T05:02:55.338319",
     "exception": false,
     "start_time": "2025-02-08T05:02:55.315203",
     "status": "completed"
    },
    "tags": []
   },
   "outputs": [
    {
     "data": {
      "application/javascript": [
       "parent.postMessage({\"jupyterEvent\": \"custom.exercise_interaction\", \"data\": {\"interactionType\": 2, \"questionType\": 1, \"questionId\": \"1_ReviewsWritten\", \"learnToolsVersion\": \"0.3.4\", \"valueTowardsCompletion\": 0.0, \"failureMessage\": \"\", \"exceptionClass\": \"\", \"trace\": \"\", \"outcomeType\": 4}}, \"*\")"
      ],
      "text/plain": [
       "<IPython.core.display.Javascript object>"
      ]
     },
     "metadata": {},
     "output_type": "display_data"
    },
    {
     "data": {
      "text/markdown": [
       "<span style=\"color:#3366cc\">Hint:</span> Use the `groupby` operation and `size()` (or `count()`)."
      ],
      "text/plain": [
       "Hint: Use the `groupby` operation and `size()` (or `count()`)."
      ]
     },
     "metadata": {},
     "output_type": "display_data"
    }
   ],
   "source": [
    "q1.hint()\n",
    "#q1.solution()"
   ]
  },
  {
   "cell_type": "markdown",
   "id": "180ba2fb",
   "metadata": {
    "papermill": {
     "duration": 0.005838,
     "end_time": "2025-02-08T05:02:55.350817",
     "exception": false,
     "start_time": "2025-02-08T05:02:55.344979",
     "status": "completed"
    },
    "tags": []
   },
   "source": [
    "## 2.\n",
    "What is the best wine I can buy for a given amount of money? Create a `Series` whose index is wine prices and whose values is the maximum number of points a wine costing that much was given in a review. Sort the values by price, ascending (so that `4.0` dollars is at the top and `3300.0` dollars is at the bottom)."
   ]
  },
  {
   "cell_type": "code",
   "execution_count": 4,
   "id": "bc856a43",
   "metadata": {
    "execution": {
     "iopub.execute_input": "2025-02-08T05:02:55.366644Z",
     "iopub.status.busy": "2025-02-08T05:02:55.366171Z",
     "iopub.status.idle": "2025-02-08T05:02:55.384204Z",
     "shell.execute_reply": "2025-02-08T05:02:55.382785Z"
    },
    "papermill": {
     "duration": 0.028758,
     "end_time": "2025-02-08T05:02:55.386450",
     "exception": false,
     "start_time": "2025-02-08T05:02:55.357692",
     "status": "completed"
    },
    "tags": []
   },
   "outputs": [
    {
     "name": "stdout",
     "output_type": "stream",
     "text": [
      "price\n",
      "4.0       86\n",
      "5.0       87\n",
      "6.0       88\n",
      "7.0       91\n",
      "8.0       91\n",
      "          ..\n",
      "1900.0    98\n",
      "2000.0    97\n",
      "2013.0    91\n",
      "2500.0    96\n",
      "3300.0    88\n",
      "Name: points, Length: 390, dtype: int64\n"
     ]
    },
    {
     "data": {
      "application/javascript": [
       "parent.postMessage({\"jupyterEvent\": \"custom.exercise_interaction\", \"data\": {\"outcomeType\": 1, \"valueTowardsCompletion\": 0.16666666666666666, \"interactionType\": 1, \"questionType\": 1, \"questionId\": \"2_BestRatingPerPrice\", \"learnToolsVersion\": \"0.3.4\", \"failureMessage\": \"\", \"exceptionClass\": \"\", \"trace\": \"\"}}, \"*\")"
      ],
      "text/plain": [
       "<IPython.core.display.Javascript object>"
      ]
     },
     "metadata": {},
     "output_type": "display_data"
    },
    {
     "data": {
      "text/markdown": [
       "<span style=\"color:#33cc33\">Correct</span>"
      ],
      "text/plain": [
       "Correct"
      ]
     },
     "metadata": {},
     "output_type": "display_data"
    }
   ],
   "source": [
    "best_rating_per_price = reviews.groupby('price').points.max().sort_index()\n",
    "\n",
    "\n",
    "print(best_rating_per_price)\n",
    "# Check your answer\n",
    "q2.check()"
   ]
  },
  {
   "cell_type": "code",
   "execution_count": 5,
   "id": "10369227",
   "metadata": {
    "execution": {
     "iopub.execute_input": "2025-02-08T05:02:55.401750Z",
     "iopub.status.busy": "2025-02-08T05:02:55.401293Z",
     "iopub.status.idle": "2025-02-08T05:02:55.414055Z",
     "shell.execute_reply": "2025-02-08T05:02:55.412787Z"
    },
    "papermill": {
     "duration": 0.022513,
     "end_time": "2025-02-08T05:02:55.416128",
     "exception": false,
     "start_time": "2025-02-08T05:02:55.393615",
     "status": "completed"
    },
    "tags": []
   },
   "outputs": [
    {
     "data": {
      "application/javascript": [
       "parent.postMessage({\"jupyterEvent\": \"custom.exercise_interaction\", \"data\": {\"interactionType\": 2, \"questionType\": 1, \"questionId\": \"2_BestRatingPerPrice\", \"learnToolsVersion\": \"0.3.4\", \"valueTowardsCompletion\": 0.0, \"failureMessage\": \"\", \"exceptionClass\": \"\", \"trace\": \"\", \"outcomeType\": 4}}, \"*\")"
      ],
      "text/plain": [
       "<IPython.core.display.Javascript object>"
      ]
     },
     "metadata": {},
     "output_type": "display_data"
    },
    {
     "data": {
      "text/markdown": [
       "<span style=\"color:#3366cc\">Hint:</span> Use `max()` and `sort_index()`.  The relevant columns in the DataFrame are `price` and `points`."
      ],
      "text/plain": [
       "Hint: Use `max()` and `sort_index()`.  The relevant columns in the DataFrame are `price` and `points`."
      ]
     },
     "metadata": {},
     "output_type": "display_data"
    },
    {
     "data": {
      "application/javascript": [
       "parent.postMessage({\"jupyterEvent\": \"custom.exercise_interaction\", \"data\": {\"interactionType\": 3, \"questionType\": 1, \"questionId\": \"2_BestRatingPerPrice\", \"learnToolsVersion\": \"0.3.4\", \"valueTowardsCompletion\": 0.0, \"failureMessage\": \"\", \"exceptionClass\": \"\", \"trace\": \"\", \"outcomeType\": 4}}, \"*\")"
      ],
      "text/plain": [
       "<IPython.core.display.Javascript object>"
      ]
     },
     "metadata": {},
     "output_type": "display_data"
    },
    {
     "data": {
      "text/markdown": [
       "<span style=\"color:#33cc99\">Solution:</span> \n",
       "```python\n",
       "best_rating_per_price = reviews.groupby('price')['points'].max().sort_index()\n",
       "```"
      ],
      "text/plain": [
       "Solution: \n",
       "```python\n",
       "best_rating_per_price = reviews.groupby('price')['points'].max().sort_index()\n",
       "```"
      ]
     },
     "metadata": {},
     "output_type": "display_data"
    }
   ],
   "source": [
    "q2.hint()\n",
    "q2.solution()"
   ]
  },
  {
   "cell_type": "markdown",
   "id": "0a10d399",
   "metadata": {
    "papermill": {
     "duration": 0.006974,
     "end_time": "2025-02-08T05:02:55.430236",
     "exception": false,
     "start_time": "2025-02-08T05:02:55.423262",
     "status": "completed"
    },
    "tags": []
   },
   "source": [
    "## 3.\n",
    "What are the minimum and maximum prices for each `variety` of wine? Create a `DataFrame` whose index is the `variety` category from the dataset and whose values are the `min` and `max` values thereof."
   ]
  },
  {
   "cell_type": "code",
   "execution_count": 6,
   "id": "d0559980",
   "metadata": {
    "execution": {
     "iopub.execute_input": "2025-02-08T05:02:55.447100Z",
     "iopub.status.busy": "2025-02-08T05:02:55.446674Z",
     "iopub.status.idle": "2025-02-08T05:02:55.484749Z",
     "shell.execute_reply": "2025-02-08T05:02:55.483505Z"
    },
    "papermill": {
     "duration": 0.04845,
     "end_time": "2025-02-08T05:02:55.486568",
     "exception": false,
     "start_time": "2025-02-08T05:02:55.438118",
     "status": "completed"
    },
    "tags": []
   },
   "outputs": [
    {
     "name": "stdout",
     "output_type": "stream",
     "text": [
      "              min    max\n",
      "variety                 \n",
      "Abouriou     15.0   75.0\n",
      "Agiorgitiko  10.0   66.0\n",
      "Aglianico     6.0  180.0\n",
      "Aidani       27.0   27.0\n",
      "Airen         8.0   10.0\n",
      "...           ...    ...\n",
      "Zinfandel     5.0  100.0\n",
      "Zlahtina     13.0   16.0\n",
      "Zweigelt      9.0   70.0\n",
      "Çalkarası    19.0   19.0\n",
      "Žilavka      15.0   15.0\n",
      "\n",
      "[707 rows x 2 columns]\n"
     ]
    },
    {
     "name": "stderr",
     "output_type": "stream",
     "text": [
      "<ipython-input-6-9ca888541e2b>:1: FutureWarning: The provided callable <built-in function min> is currently using SeriesGroupBy.min. In a future version of pandas, the provided callable will be used directly. To keep current behavior pass the string \"min\" instead.\n",
      "  price_extremes = reviews.groupby('variety').price.agg([min, max])\n",
      "<ipython-input-6-9ca888541e2b>:1: FutureWarning: The provided callable <built-in function max> is currently using SeriesGroupBy.max. In a future version of pandas, the provided callable will be used directly. To keep current behavior pass the string \"max\" instead.\n",
      "  price_extremes = reviews.groupby('variety').price.agg([min, max])\n"
     ]
    },
    {
     "data": {
      "application/javascript": [
       "parent.postMessage({\"jupyterEvent\": \"custom.exercise_interaction\", \"data\": {\"outcomeType\": 1, \"valueTowardsCompletion\": 0.16666666666666666, \"interactionType\": 1, \"questionType\": 1, \"questionId\": \"3_PriceExtremes\", \"learnToolsVersion\": \"0.3.4\", \"failureMessage\": \"\", \"exceptionClass\": \"\", \"trace\": \"\"}}, \"*\")"
      ],
      "text/plain": [
       "<IPython.core.display.Javascript object>"
      ]
     },
     "metadata": {},
     "output_type": "display_data"
    },
    {
     "data": {
      "text/markdown": [
       "<span style=\"color:#33cc33\">Correct</span>"
      ],
      "text/plain": [
       "Correct"
      ]
     },
     "metadata": {},
     "output_type": "display_data"
    }
   ],
   "source": [
    "price_extremes = reviews.groupby('variety').price.agg([min, max])\n",
    "print(price_extremes)\n",
    "# Check your answer\n",
    "q3.check()"
   ]
  },
  {
   "cell_type": "code",
   "execution_count": 7,
   "id": "eda3db65",
   "metadata": {
    "execution": {
     "iopub.execute_input": "2025-02-08T05:02:55.502451Z",
     "iopub.status.busy": "2025-02-08T05:02:55.502093Z",
     "iopub.status.idle": "2025-02-08T05:02:55.514098Z",
     "shell.execute_reply": "2025-02-08T05:02:55.512788Z"
    },
    "papermill": {
     "duration": 0.022731,
     "end_time": "2025-02-08T05:02:55.516602",
     "exception": false,
     "start_time": "2025-02-08T05:02:55.493871",
     "status": "completed"
    },
    "tags": []
   },
   "outputs": [
    {
     "data": {
      "application/javascript": [
       "parent.postMessage({\"jupyterEvent\": \"custom.exercise_interaction\", \"data\": {\"interactionType\": 2, \"questionType\": 1, \"questionId\": \"3_PriceExtremes\", \"learnToolsVersion\": \"0.3.4\", \"valueTowardsCompletion\": 0.0, \"failureMessage\": \"\", \"exceptionClass\": \"\", \"trace\": \"\", \"outcomeType\": 4}}, \"*\")"
      ],
      "text/plain": [
       "<IPython.core.display.Javascript object>"
      ]
     },
     "metadata": {},
     "output_type": "display_data"
    },
    {
     "data": {
      "text/markdown": [
       "<span style=\"color:#3366cc\">Hint:</span> Use `agg()`."
      ],
      "text/plain": [
       "Hint: Use `agg()`."
      ]
     },
     "metadata": {},
     "output_type": "display_data"
    },
    {
     "data": {
      "application/javascript": [
       "parent.postMessage({\"jupyterEvent\": \"custom.exercise_interaction\", \"data\": {\"interactionType\": 3, \"questionType\": 1, \"questionId\": \"3_PriceExtremes\", \"learnToolsVersion\": \"0.3.4\", \"valueTowardsCompletion\": 0.0, \"failureMessage\": \"\", \"exceptionClass\": \"\", \"trace\": \"\", \"outcomeType\": 4}}, \"*\")"
      ],
      "text/plain": [
       "<IPython.core.display.Javascript object>"
      ]
     },
     "metadata": {},
     "output_type": "display_data"
    },
    {
     "data": {
      "text/markdown": [
       "<span style=\"color:#33cc99\">Solution:</span> \n",
       "```python\n",
       "price_extremes = reviews.groupby('variety').price.agg([min, max])\n",
       "```"
      ],
      "text/plain": [
       "Solution: \n",
       "```python\n",
       "price_extremes = reviews.groupby('variety').price.agg([min, max])\n",
       "```"
      ]
     },
     "metadata": {},
     "output_type": "display_data"
    }
   ],
   "source": [
    "q3.hint()\n",
    "q3.solution()"
   ]
  },
  {
   "cell_type": "markdown",
   "id": "626fedcd",
   "metadata": {
    "papermill": {
     "duration": 0.007903,
     "end_time": "2025-02-08T05:02:55.532402",
     "exception": false,
     "start_time": "2025-02-08T05:02:55.524499",
     "status": "completed"
    },
    "tags": []
   },
   "source": [
    "## 4.\n",
    "What are the most expensive wine varieties? Create a variable `sorted_varieties` containing a copy of the dataframe from the previous question where varieties are sorted in descending order based on minimum price, then on maximum price (to break ties)."
   ]
  },
  {
   "cell_type": "code",
   "execution_count": 8,
   "id": "c24a63aa",
   "metadata": {
    "execution": {
     "iopub.execute_input": "2025-02-08T05:02:55.551521Z",
     "iopub.status.busy": "2025-02-08T05:02:55.551080Z",
     "iopub.status.idle": "2025-02-08T05:02:55.588419Z",
     "shell.execute_reply": "2025-02-08T05:02:55.586950Z"
    },
    "papermill": {
     "duration": 0.049573,
     "end_time": "2025-02-08T05:02:55.590299",
     "exception": false,
     "start_time": "2025-02-08T05:02:55.540726",
     "status": "completed"
    },
    "tags": []
   },
   "outputs": [
    {
     "name": "stdout",
     "output_type": "stream",
     "text": [
      "                                  min    max\n",
      "variety                                     \n",
      "Ramisco                         495.0  495.0\n",
      "Terrantez                       236.0  236.0\n",
      "Francisa                        160.0  160.0\n",
      "Rosenmuskateller                150.0  150.0\n",
      "Tinta Negra Mole                112.0  112.0\n",
      "...                               ...    ...\n",
      "Roscetto                          NaN    NaN\n",
      "Sauvignon Blanc-Sauvignon Gris    NaN    NaN\n",
      "Tempranillo-Malbec                NaN    NaN\n",
      "Vital                             NaN    NaN\n",
      "Zelen                             NaN    NaN\n",
      "\n",
      "[707 rows x 2 columns]\n"
     ]
    },
    {
     "name": "stderr",
     "output_type": "stream",
     "text": [
      "<ipython-input-8-680272809932>:1: FutureWarning: The provided callable <built-in function min> is currently using SeriesGroupBy.min. In a future version of pandas, the provided callable will be used directly. To keep current behavior pass the string \"min\" instead.\n",
      "  sorted_varieties = reviews.groupby('variety').price.agg([min, max]).sort_values(by = ['min', 'max'] , ascending = False)\n",
      "<ipython-input-8-680272809932>:1: FutureWarning: The provided callable <built-in function max> is currently using SeriesGroupBy.max. In a future version of pandas, the provided callable will be used directly. To keep current behavior pass the string \"max\" instead.\n",
      "  sorted_varieties = reviews.groupby('variety').price.agg([min, max]).sort_values(by = ['min', 'max'] , ascending = False)\n",
      "/usr/local/lib/python3.10/dist-packages/pandas/io/formats/format.py:1458: RuntimeWarning: invalid value encountered in greater\n",
      "  has_large_values = (abs_vals > 1e6).any()\n",
      "/usr/local/lib/python3.10/dist-packages/pandas/io/formats/format.py:1459: RuntimeWarning: invalid value encountered in less\n",
      "  has_small_values = ((abs_vals < 10 ** (-self.digits)) & (abs_vals > 0)).any()\n",
      "/usr/local/lib/python3.10/dist-packages/pandas/io/formats/format.py:1459: RuntimeWarning: invalid value encountered in greater\n",
      "  has_small_values = ((abs_vals < 10 ** (-self.digits)) & (abs_vals > 0)).any()\n"
     ]
    },
    {
     "data": {
      "application/javascript": [
       "parent.postMessage({\"jupyterEvent\": \"custom.exercise_interaction\", \"data\": {\"outcomeType\": 1, \"valueTowardsCompletion\": 0.16666666666666666, \"interactionType\": 1, \"questionType\": 1, \"questionId\": \"4_SortedVarieties\", \"learnToolsVersion\": \"0.3.4\", \"failureMessage\": \"\", \"exceptionClass\": \"\", \"trace\": \"\"}}, \"*\")"
      ],
      "text/plain": [
       "<IPython.core.display.Javascript object>"
      ]
     },
     "metadata": {},
     "output_type": "display_data"
    },
    {
     "data": {
      "text/markdown": [
       "<span style=\"color:#33cc33\">Correct</span>"
      ],
      "text/plain": [
       "Correct"
      ]
     },
     "metadata": {},
     "output_type": "display_data"
    }
   ],
   "source": [
    "sorted_varieties = reviews.groupby('variety').price.agg([min, max]).sort_values(by = ['min', 'max'] , ascending = False)\n",
    "print(sorted_varieties)\n",
    "\n",
    "# Check your answer\n",
    "q4.check()"
   ]
  },
  {
   "cell_type": "code",
   "execution_count": 9,
   "id": "b82118eb",
   "metadata": {
    "execution": {
     "iopub.execute_input": "2025-02-08T05:02:55.608481Z",
     "iopub.status.busy": "2025-02-08T05:02:55.608121Z",
     "iopub.status.idle": "2025-02-08T05:02:55.617242Z",
     "shell.execute_reply": "2025-02-08T05:02:55.615976Z"
    },
    "papermill": {
     "duration": 0.020722,
     "end_time": "2025-02-08T05:02:55.619310",
     "exception": false,
     "start_time": "2025-02-08T05:02:55.598588",
     "status": "completed"
    },
    "tags": []
   },
   "outputs": [
    {
     "data": {
      "application/javascript": [
       "parent.postMessage({\"jupyterEvent\": \"custom.exercise_interaction\", \"data\": {\"interactionType\": 2, \"questionType\": 1, \"questionId\": \"4_SortedVarieties\", \"learnToolsVersion\": \"0.3.4\", \"valueTowardsCompletion\": 0.0, \"failureMessage\": \"\", \"exceptionClass\": \"\", \"trace\": \"\", \"outcomeType\": 4}}, \"*\")"
      ],
      "text/plain": [
       "<IPython.core.display.Javascript object>"
      ]
     },
     "metadata": {},
     "output_type": "display_data"
    },
    {
     "data": {
      "text/markdown": [
       "<span style=\"color:#3366cc\">Hint:</span> Use `sort_values()`, and provide a list of names to sort by."
      ],
      "text/plain": [
       "Hint: Use `sort_values()`, and provide a list of names to sort by."
      ]
     },
     "metadata": {},
     "output_type": "display_data"
    }
   ],
   "source": [
    "q4.hint()\n",
    "#q4.solution()"
   ]
  },
  {
   "cell_type": "markdown",
   "id": "8ff4744d",
   "metadata": {
    "papermill": {
     "duration": 0.00818,
     "end_time": "2025-02-08T05:02:55.636410",
     "exception": false,
     "start_time": "2025-02-08T05:02:55.628230",
     "status": "completed"
    },
    "tags": []
   },
   "source": [
    "## 5.\n",
    "Create a `Series` whose index is reviewers and whose values is the average review score given out by that reviewer. Hint: you will need the `taster_name` and `points` columns."
   ]
  },
  {
   "cell_type": "code",
   "execution_count": 10,
   "id": "a2d99832",
   "metadata": {
    "execution": {
     "iopub.execute_input": "2025-02-08T05:02:55.655491Z",
     "iopub.status.busy": "2025-02-08T05:02:55.654775Z",
     "iopub.status.idle": "2025-02-08T05:02:55.676703Z",
     "shell.execute_reply": "2025-02-08T05:02:55.675659Z"
    },
    "papermill": {
     "duration": 0.034052,
     "end_time": "2025-02-08T05:02:55.678871",
     "exception": false,
     "start_time": "2025-02-08T05:02:55.644819",
     "status": "completed"
    },
    "tags": []
   },
   "outputs": [
    {
     "data": {
      "application/javascript": [
       "parent.postMessage({\"jupyterEvent\": \"custom.exercise_interaction\", \"data\": {\"outcomeType\": 1, \"valueTowardsCompletion\": 0.16666666666666666, \"interactionType\": 1, \"questionType\": 1, \"questionId\": \"5_ReviewerMeanRatings\", \"learnToolsVersion\": \"0.3.4\", \"failureMessage\": \"\", \"exceptionClass\": \"\", \"trace\": \"\"}}, \"*\")"
      ],
      "text/plain": [
       "<IPython.core.display.Javascript object>"
      ]
     },
     "metadata": {},
     "output_type": "display_data"
    },
    {
     "data": {
      "text/markdown": [
       "<span style=\"color:#33cc33\">Correct</span>"
      ],
      "text/plain": [
       "Correct"
      ]
     },
     "metadata": {},
     "output_type": "display_data"
    }
   ],
   "source": [
    "reviewer_mean_ratings = reviews.groupby('taster_name').points.mean()\n",
    "\n",
    "# Check your answer\n",
    "q5.check()"
   ]
  },
  {
   "cell_type": "code",
   "execution_count": 11,
   "id": "ee6c3fda",
   "metadata": {
    "execution": {
     "iopub.execute_input": "2025-02-08T05:02:55.698579Z",
     "iopub.status.busy": "2025-02-08T05:02:55.698172Z",
     "iopub.status.idle": "2025-02-08T05:02:55.702781Z",
     "shell.execute_reply": "2025-02-08T05:02:55.701331Z"
    },
    "papermill": {
     "duration": 0.017076,
     "end_time": "2025-02-08T05:02:55.704924",
     "exception": false,
     "start_time": "2025-02-08T05:02:55.687848",
     "status": "completed"
    },
    "tags": []
   },
   "outputs": [],
   "source": [
    "#q5.hint()\n",
    "#q5.solution()"
   ]
  },
  {
   "cell_type": "markdown",
   "id": "4b02e26d",
   "metadata": {
    "papermill": {
     "duration": 0.00927,
     "end_time": "2025-02-08T05:02:55.723074",
     "exception": false,
     "start_time": "2025-02-08T05:02:55.713804",
     "status": "completed"
    },
    "tags": []
   },
   "source": [
    "Are there significant differences in the average scores assigned by the various reviewers? Run the cell below to use the `describe()` method to see a summary of the range of values."
   ]
  },
  {
   "cell_type": "code",
   "execution_count": 12,
   "id": "ffe3c5a5",
   "metadata": {
    "execution": {
     "iopub.execute_input": "2025-02-08T05:02:55.741174Z",
     "iopub.status.busy": "2025-02-08T05:02:55.740793Z",
     "iopub.status.idle": "2025-02-08T05:02:55.754784Z",
     "shell.execute_reply": "2025-02-08T05:02:55.753485Z"
    },
    "papermill": {
     "duration": 0.025075,
     "end_time": "2025-02-08T05:02:55.756831",
     "exception": false,
     "start_time": "2025-02-08T05:02:55.731756",
     "status": "completed"
    },
    "tags": []
   },
   "outputs": [
    {
     "data": {
      "text/plain": [
       "count    19.000000\n",
       "mean     88.233026\n",
       "std       1.243610\n",
       "min      85.855422\n",
       "25%      87.323501\n",
       "50%      88.536235\n",
       "75%      88.975256\n",
       "max      90.562551\n",
       "Name: points, dtype: float64"
      ]
     },
     "execution_count": 12,
     "metadata": {},
     "output_type": "execute_result"
    }
   ],
   "source": [
    "reviewer_mean_ratings.describe()"
   ]
  },
  {
   "cell_type": "markdown",
   "id": "09ec9f46",
   "metadata": {
    "papermill": {
     "duration": 0.008365,
     "end_time": "2025-02-08T05:02:55.773858",
     "exception": false,
     "start_time": "2025-02-08T05:02:55.765493",
     "status": "completed"
    },
    "tags": []
   },
   "source": [
    "## 6.\n",
    "What combination of countries and varieties are most common? Create a `Series` whose index is a `MultiIndex`of `{country, variety}` pairs. For example, a pinot noir produced in the US should map to `{\"US\", \"Pinot Noir\"}`. Sort the values in the `Series` in descending order based on wine count."
   ]
  },
  {
   "cell_type": "code",
   "execution_count": 13,
   "id": "635a808d",
   "metadata": {
    "execution": {
     "iopub.execute_input": "2025-02-08T05:02:55.792075Z",
     "iopub.status.busy": "2025-02-08T05:02:55.791628Z",
     "iopub.status.idle": "2025-02-08T05:02:55.832286Z",
     "shell.execute_reply": "2025-02-08T05:02:55.830886Z"
    },
    "papermill": {
     "duration": 0.052357,
     "end_time": "2025-02-08T05:02:55.834352",
     "exception": false,
     "start_time": "2025-02-08T05:02:55.781995",
     "status": "completed"
    },
    "tags": []
   },
   "outputs": [
    {
     "name": "stdout",
     "output_type": "stream",
     "text": [
      "country  variety                 \n",
      "US       Pinot Noir                  9885\n",
      "         Cabernet Sauvignon          7315\n",
      "         Chardonnay                  6801\n",
      "France   Bordeaux-style Red Blend    4725\n",
      "Italy    Red Blend                   3624\n",
      "                                     ... \n",
      "Mexico   Cinsault                       1\n",
      "         Grenache                       1\n",
      "         Merlot                         1\n",
      "         Rosado                         1\n",
      "Uruguay  White Blend                    1\n",
      "Length: 1612, dtype: int64\n"
     ]
    },
    {
     "data": {
      "application/javascript": [
       "parent.postMessage({\"jupyterEvent\": \"custom.exercise_interaction\", \"data\": {\"outcomeType\": 1, \"valueTowardsCompletion\": 0.16666666666666666, \"interactionType\": 1, \"questionType\": 1, \"questionId\": \"6_GroupbyCountryVariety\", \"learnToolsVersion\": \"0.3.4\", \"failureMessage\": \"\", \"exceptionClass\": \"\", \"trace\": \"\"}}, \"*\")"
      ],
      "text/plain": [
       "<IPython.core.display.Javascript object>"
      ]
     },
     "metadata": {},
     "output_type": "display_data"
    },
    {
     "data": {
      "text/markdown": [
       "<span style=\"color:#33cc33\">Correct</span>"
      ],
      "text/plain": [
       "Correct"
      ]
     },
     "metadata": {},
     "output_type": "display_data"
    }
   ],
   "source": [
    "country_variety_counts = reviews.groupby(['country', 'variety']).size().sort_values(ascending = False)\n",
    "print(country_variety_counts)\n",
    "\n",
    "# Check your answer\n",
    "q6.check()"
   ]
  },
  {
   "cell_type": "code",
   "execution_count": 14,
   "id": "2cf0038f",
   "metadata": {
    "execution": {
     "iopub.execute_input": "2025-02-08T05:02:55.852892Z",
     "iopub.status.busy": "2025-02-08T05:02:55.852445Z",
     "iopub.status.idle": "2025-02-08T05:02:55.860841Z",
     "shell.execute_reply": "2025-02-08T05:02:55.859682Z"
    },
    "papermill": {
     "duration": 0.019901,
     "end_time": "2025-02-08T05:02:55.862914",
     "exception": false,
     "start_time": "2025-02-08T05:02:55.843013",
     "status": "completed"
    },
    "tags": []
   },
   "outputs": [
    {
     "data": {
      "application/javascript": [
       "parent.postMessage({\"jupyterEvent\": \"custom.exercise_interaction\", \"data\": {\"interactionType\": 2, \"questionType\": 1, \"questionId\": \"6_GroupbyCountryVariety\", \"learnToolsVersion\": \"0.3.4\", \"valueTowardsCompletion\": 0.0, \"failureMessage\": \"\", \"exceptionClass\": \"\", \"trace\": \"\", \"outcomeType\": 4}}, \"*\")"
      ],
      "text/plain": [
       "<IPython.core.display.Javascript object>"
      ]
     },
     "metadata": {},
     "output_type": "display_data"
    },
    {
     "data": {
      "text/markdown": [
       "<span style=\"color:#3366cc\">Hint:</span> Use `groupby()`, and provide a list of columns to group by.  You may also find `size()` and `sort_values()` to be useful!"
      ],
      "text/plain": [
       "Hint: Use `groupby()`, and provide a list of columns to group by.  You may also find `size()` and `sort_values()` to be useful!"
      ]
     },
     "metadata": {},
     "output_type": "display_data"
    }
   ],
   "source": [
    "q6.hint()\n",
    "#q6.solution()"
   ]
  },
  {
   "cell_type": "markdown",
   "id": "d82b0721",
   "metadata": {
    "papermill": {
     "duration": 0.009042,
     "end_time": "2025-02-08T05:02:55.882274",
     "exception": false,
     "start_time": "2025-02-08T05:02:55.873232",
     "status": "completed"
    },
    "tags": []
   },
   "source": [
    "# Keep going\n",
    "\n",
    "Move on to the [**data types and missing data**](https://www.kaggle.com/residentmario/data-types-and-missing-values)."
   ]
  },
  {
   "cell_type": "markdown",
   "id": "2f9b7335",
   "metadata": {
    "papermill": {
     "duration": 0.009399,
     "end_time": "2025-02-08T05:02:55.901036",
     "exception": false,
     "start_time": "2025-02-08T05:02:55.891637",
     "status": "completed"
    },
    "tags": []
   },
   "source": [
    "---\n",
    "\n",
    "\n",
    "\n",
    "\n",
    "*Have questions or comments? Visit the [course discussion forum](https://www.kaggle.com/learn/pandas/discussion) to chat with other learners.*"
   ]
  }
 ],
 "metadata": {
  "kaggle": {
   "accelerator": "none",
   "dataSources": [
    {
     "datasetId": 655,
     "sourceId": 1252,
     "sourceType": "datasetVersion"
    },
    {
     "datasetId": 2321,
     "sourceId": 3919,
     "sourceType": "datasetVersion"
    },
    {
     "datasetId": 2894,
     "sourceId": 4877,
     "sourceType": "datasetVersion"
    },
    {
     "datasetId": 3491,
     "sourceId": 5624,
     "sourceType": "datasetVersion"
    },
    {
     "datasetId": 1442,
     "sourceId": 8172,
     "sourceType": "datasetVersion"
    },
    {
     "datasetId": 9366,
     "sourceId": 13206,
     "sourceType": "datasetVersion"
    },
    {
     "datasetId": 179555,
     "sourceId": 403916,
     "sourceType": "datasetVersion"
    },
    {
     "datasetId": 4549,
     "sourceId": 466349,
     "sourceType": "datasetVersion"
    },
    {
     "datasetId": 2478,
     "sourceId": 1151655,
     "sourceType": "datasetVersion"
    },
    {
     "datasetId": 10128,
     "sourceId": 5438389,
     "sourceType": "datasetVersion"
    }
   ],
   "isGpuEnabled": false,
   "isInternetEnabled": false,
   "language": "python",
   "sourceType": "notebook"
  },
  "kernelspec": {
   "display_name": "Python 3",
   "language": "python",
   "name": "python3"
  },
  "language_info": {
   "codemirror_mode": {
    "name": "ipython",
    "version": 3
   },
   "file_extension": ".py",
   "mimetype": "text/x-python",
   "name": "python",
   "nbconvert_exporter": "python",
   "pygments_lexer": "ipython3",
   "version": "3.10.12"
  },
  "papermill": {
   "default_parameters": {},
   "duration": 9.571378,
   "end_time": "2025-02-08T05:02:56.834193",
   "environment_variables": {},
   "exception": null,
   "input_path": "__notebook__.ipynb",
   "output_path": "__notebook__.ipynb",
   "parameters": {},
   "start_time": "2025-02-08T05:02:47.262815",
   "version": "2.6.0"
  }
 },
 "nbformat": 4,
 "nbformat_minor": 5
}
